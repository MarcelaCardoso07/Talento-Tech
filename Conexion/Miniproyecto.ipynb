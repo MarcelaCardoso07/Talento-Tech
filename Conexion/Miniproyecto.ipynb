{
  "nbformat": 4,
  "nbformat_minor": 0,
  "metadata": {
    "colab": {
      "provenance": []
    },
    "kernelspec": {
      "name": "python3",
      "display_name": "Python 3"
    },
    "language_info": {
      "name": "python"
    }
  },
  "cells": [
    {
      "cell_type": "code",
      "execution_count": 5,
      "metadata": {
        "colab": {
          "base_uri": "https://localhost:8080/"
        },
        "id": "S_HiBPNat3e4",
        "outputId": "99853603-630c-433b-97c5-e8fb6c1a89c0"
      },
      "outputs": [
        {
          "output_type": "stream",
          "name": "stdout",
          "text": [
            "Sistema de Seguimiento de Progreso de Ajedrecistas\n"
          ]
        }
      ],
      "source": [
        "#Sistema de Seguimiento de Progreso de Ajedrecistas\n",
        "print('Sistema de Seguimiento de Progreso de Ajedrecistas')"
      ]
    },
    {
      "cell_type": "code",
      "source": [
        "#Menu\n",
        "print(\"Menu\")"
      ],
      "metadata": {
        "colab": {
          "base_uri": "https://localhost:8080/"
        },
        "id": "ECgOtCHhucHM",
        "outputId": "3d23831b-6c3e-4f52-d234-3135be60a21d"
      },
      "execution_count": 6,
      "outputs": [
        {
          "output_type": "stream",
          "name": "stdout",
          "text": [
            "Menu\n"
          ]
        }
      ]
    },
    {
      "cell_type": "code",
      "source": [
        "print(\"1:Cargar datos de ajedrecistas\")"
      ],
      "metadata": {
        "colab": {
          "base_uri": "https://localhost:8080/"
        },
        "id": "9lUmxujMwJCi",
        "outputId": "4dfe3d9d-d76b-4df7-f705-fe9436f82f38"
      },
      "execution_count": 7,
      "outputs": [
        {
          "output_type": "stream",
          "name": "stdout",
          "text": [
            "1:Cargar datos de ajedrecistas\n"
          ]
        }
      ]
    },
    {
      "cell_type": "code",
      "source": [
        "print(\"2: Visualizar estadísticas generales\")"
      ],
      "metadata": {
        "colab": {
          "base_uri": "https://localhost:8080/"
        },
        "id": "Brhhupg6wgJP",
        "outputId": "b411402a-e1f5-4150-eab8-87a06f5c3826"
      },
      "execution_count": 8,
      "outputs": [
        {
          "output_type": "stream",
          "name": "stdout",
          "text": [
            "2: Visualizar estadísticas generales\n"
          ]
        }
      ]
    },
    {
      "cell_type": "code",
      "source": [
        "print(\"3: comparar rendimiento entre jugadores\")\n"
      ],
      "metadata": {
        "colab": {
          "base_uri": "https://localhost:8080/"
        },
        "id": "r2d-QLxSwn9N",
        "outputId": "05daf18b-607c-44b6-ed1d-fd6879dad849"
      },
      "execution_count": 9,
      "outputs": [
        {
          "output_type": "stream",
          "name": "stdout",
          "text": [
            "3: comparar rendimiento entre jugadores\n"
          ]
        }
      ]
    },
    {
      "cell_type": "code",
      "source": [
        "print(\"4: Evolución de un jugador\")"
      ],
      "metadata": {
        "colab": {
          "base_uri": "https://localhost:8080/"
        },
        "id": "FJg7rbY3w4vd",
        "outputId": "4e0dd6d1-88b6-48dd-d02d-977e96ca2318"
      },
      "execution_count": 10,
      "outputs": [
        {
          "output_type": "stream",
          "name": "stdout",
          "text": [
            "4: Evolución de un jugador\n"
          ]
        }
      ]
    }
  ]
}