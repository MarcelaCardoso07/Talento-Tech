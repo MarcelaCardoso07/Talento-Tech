{
  "nbformat": 4,
  "nbformat_minor": 0,
  "metadata": {
    "colab": {
      "provenance": []
    },
    "kernelspec": {
      "name": "python3",
      "display_name": "Python 3"
    },
    "language_info": {
      "name": "python"
    }
  },
  "cells": [
    {
      "cell_type": "code",
      "source": [
        "print(\"su edad es:\"+\"25\" )"
      ],
      "metadata": {
        "colab": {
          "base_uri": "https://localhost:8080/"
        },
        "id": "HKE6Of3CDOEh",
        "outputId": "79315a25-922a-4798-8f83-f0e2c9df7750"
      },
      "execution_count": null,
      "outputs": [
        {
          "output_type": "stream",
          "name": "stdout",
          "text": [
            "su edad es:25\n"
          ]
        }
      ]
    },
    {
      "cell_type": "code",
      "source": [
        "print(\"su edad es:\",25, \"y nacio en\", 1999 )"
      ],
      "metadata": {
        "colab": {
          "base_uri": "https://localhost:8080/"
        },
        "id": "yp41flJADvRL",
        "outputId": "1b5d7107-0ab0-4e96-ed63-394a77338c68"
      },
      "execution_count": null,
      "outputs": [
        {
          "output_type": "stream",
          "name": "stdout",
          "text": [
            "su edad es: 25 y nacio en 1999\n"
          ]
        }
      ]
    },
    {
      "cell_type": "code",
      "source": [
        "print(\"los numeros son %d y %d.\" % (5, 10))\n",
        "s= \"Los numeros son {} y {}\". format(5,10)\n",
        "print(s) #los numeros son 5 y 10\n",
        "\n",
        "s=\"los numeros son {a} y {b}\".format(a=5, b=10)\n",
        "print(s) #los numeros son 5 y 10"
      ],
      "metadata": {
        "colab": {
          "base_uri": "https://localhost:8080/"
        },
        "id": "u5UhLGWnEF75",
        "outputId": "47c4d9fe-7458-4788-95f7-2c474138578d"
      },
      "execution_count": null,
      "outputs": [
        {
          "output_type": "stream",
          "name": "stdout",
          "text": [
            "los numeros son 5 y 10.\n",
            "Los numeros son 5 y 10\n",
            "los numeros son 5 y 10\n"
          ]
        }
      ]
    },
    {
      "cell_type": "code",
      "source": [
        "a= 5; b=10\n",
        "s= f\"los numeros son {a} y {b}\"\n",
        "print(s) #los numeros son 5 y 10\n",
        "a=5 ; b=10\n",
        "s= f\"a+b= {a+b}\"\n",
        "print(s) #a+b=15"
      ],
      "metadata": {
        "colab": {
          "base_uri": "https://localhost:8080/"
        },
        "id": "7fO3MlpMJqP9",
        "outputId": "0b7bbca9-7e9f-49cb-93d6-a2ecc973df43"
      },
      "execution_count": null,
      "outputs": [
        {
          "output_type": "stream",
          "name": "stdout",
          "text": [
            "los numeros son 5 y 10\n",
            "a+b= 15\n"
          ]
        }
      ]
    },
    {
      "cell_type": "code",
      "source": [
        "c=\"hola\""
      ],
      "metadata": {
        "id": "-tPYwMSBGRzT"
      },
      "execution_count": null,
      "outputs": []
    },
    {
      "cell_type": "code",
      "source": [
        "c"
      ],
      "metadata": {
        "colab": {
          "base_uri": "https://localhost:8080/",
          "height": 36
        },
        "id": "x2p9ak5wGXjW",
        "outputId": "86078c5b-5cc3-43e2-f316-becdc6d53e7d"
      },
      "execution_count": null,
      "outputs": [
        {
          "output_type": "execute_result",
          "data": {
            "text/plain": [
              "'hola'"
            ],
            "application/vnd.google.colaboratory.intrinsic+json": {
              "type": "string"
            }
          },
          "metadata": {},
          "execution_count": 8
        }
      ]
    },
    {
      "cell_type": "code",
      "source": [
        "print(c)"
      ],
      "metadata": {
        "colab": {
          "base_uri": "https://localhost:8080/"
        },
        "id": "rqTqpqU6GaKI",
        "outputId": "21981552-bff1-4914-c4b4-fe94e16b6c60"
      },
      "execution_count": null,
      "outputs": [
        {
          "output_type": "stream",
          "name": "stdout",
          "text": [
            "hola\n"
          ]
        }
      ]
    },
    {
      "cell_type": "code",
      "source": [
        "c='hola'\n",
        "print(c)\n",
        "c"
      ],
      "metadata": {
        "colab": {
          "base_uri": "https://localhost:8080/",
          "height": 53
        },
        "id": "LNmxGJIZGejM",
        "outputId": "0b6b5125-33f2-446a-e3b8-80de38da06f4"
      },
      "execution_count": null,
      "outputs": [
        {
          "output_type": "stream",
          "name": "stdout",
          "text": [
            "hola\n"
          ]
        },
        {
          "output_type": "execute_result",
          "data": {
            "text/plain": [
              "'hola'"
            ],
            "application/vnd.google.colaboratory.intrinsic+json": {
              "type": "string"
            }
          },
          "metadata": {},
          "execution_count": 10
        }
      ]
    },
    {
      "cell_type": "code",
      "source": [
        "c=\"\"\"acdhfdkjfjhfjkgkflh\n",
        "lksdfjgjgkffkgjgkfjgfhgfjhgjkhgghjfhkgflkggkjfhgjkhgjfhdlkdfjldksjflkdsjflkjflkjfjfkdsjhasdhfls\n",
        "274855896869678\n",
        "\"\"\"\n",
        "print(c)\n",
        "c\n"
      ],
      "metadata": {
        "colab": {
          "base_uri": "https://localhost:8080/",
          "height": 105
        },
        "id": "IATnx72UG5N4",
        "outputId": "a3e326d2-6930-4a1f-e51e-d66c700da3a7"
      },
      "execution_count": null,
      "outputs": [
        {
          "output_type": "stream",
          "name": "stdout",
          "text": [
            "acdhfdkjfjhfjkgkflh\n",
            "lksdfjgjgkffkgjgkfjgfhgfjhgjkhgghjfhkgflkggkjfhgjkhgjfhdlkdfjldksjflkdsjflkjflkjfjfkdsjhasdhfls\n",
            "274855896869678\n",
            "\n"
          ]
        },
        {
          "output_type": "execute_result",
          "data": {
            "text/plain": [
              "'acdhfdkjfjhfjkgkflh\\nlksdfjgjgkffkgjgkfjgfhgfjhgjkhgghjfhkgflkggkjfhgjkhgjfhdlkdfjldksjflkdsjflkjflkjfjfkdsjhasdhfls\\n274855896869678\\n'"
            ],
            "application/vnd.google.colaboratory.intrinsic+json": {
              "type": "string"
            }
          },
          "metadata": {},
          "execution_count": 12
        }
      ]
    },
    {
      "cell_type": "code",
      "source": [
        "a=\"HELLO\"\n",
        "print(a)\n",
        "print(a.lower())\n",
        "print(a.upper())\n",
        "print(a.count('l'))"
      ],
      "metadata": {
        "colab": {
          "base_uri": "https://localhost:8080/"
        },
        "id": "s6jxKywaUSZV",
        "outputId": "2dd36daf-a4e1-4d44-9eae-6a71d5781def"
      },
      "execution_count": null,
      "outputs": [
        {
          "output_type": "stream",
          "name": "stdout",
          "text": [
            "HELLO\n",
            "hello\n",
            "HELLO\n",
            "0\n"
          ]
        }
      ]
    },
    {
      "cell_type": "code",
      "source": [
        "a=\"Bootcamp\"\n",
        "print(a)\n",
        "print(a.replace(\"Boo\", \"  List\"))"
      ],
      "metadata": {
        "colab": {
          "base_uri": "https://localhost:8080/"
        },
        "id": "hNXzzZMHVom3",
        "outputId": "5619ca65-d1e8-4a08-b045-bc5a5ca6a49e"
      },
      "execution_count": null,
      "outputs": [
        {
          "output_type": "stream",
          "name": "stdout",
          "text": [
            "Bootcamp\n",
            "  Listtcamp\n"
          ]
        }
      ]
    },
    {
      "cell_type": "code",
      "source": [
        "a=\"I like bananas\"\n",
        "\n",
        "print(a.replace(\"like\", \"dislike\"))\n",
        "\n",
        "print(a)"
      ],
      "metadata": {
        "colab": {
          "base_uri": "https://localhost:8080/"
        },
        "id": "bscit5MVX3_3",
        "outputId": "e129eed5-79e0-47d9-86d3-10b17397828a"
      },
      "execution_count": null,
      "outputs": [
        {
          "output_type": "stream",
          "name": "stdout",
          "text": [
            "I dislike bananas\n",
            "I like bananas\n"
          ]
        }
      ]
    },
    {
      "cell_type": "code",
      "source": [
        "a=\"Me gusta entrenar\"\n",
        "\n",
        "print(a.replace(\"gusta\", \"no me gusta\"))\n",
        "\n",
        "print(a)"
      ],
      "metadata": {
        "colab": {
          "base_uri": "https://localhost:8080/"
        },
        "id": "o-apCvkvYO8m",
        "outputId": "cd986934-90f2-41db-b1cb-31c15e647a1b"
      },
      "execution_count": null,
      "outputs": [
        {
          "output_type": "stream",
          "name": "stdout",
          "text": [
            "Me no me gusta entrenar\n",
            "Me gusta entrenar\n"
          ]
        }
      ]
    },
    {
      "cell_type": "code",
      "source": [
        "a=\"Aguacate\"\n",
        "print(a.center(20))\n",
        "print(a)"
      ],
      "metadata": {
        "colab": {
          "base_uri": "https://localhost:8080/"
        },
        "id": "X0BgRyELYygm",
        "outputId": "f16df10a-376b-4826-c75f-7df92b494ade"
      },
      "execution_count": null,
      "outputs": [
        {
          "output_type": "stream",
          "name": "stdout",
          "text": [
            "      Aguacate      \n",
            "Aguacate\n"
          ]
        }
      ]
    },
    {
      "cell_type": "code",
      "source": [
        "a=\"Bienvenidos a clase\"\n",
        "print(a.split(\" \"))\n",
        "print(a)"
      ],
      "metadata": {
        "colab": {
          "base_uri": "https://localhost:8080/"
        },
        "id": "2zqrwwXfZhNT",
        "outputId": "76e09bd2-5dca-4178-9bac-518aba6a3c01"
      },
      "execution_count": null,
      "outputs": [
        {
          "output_type": "stream",
          "name": "stdout",
          "text": [
            "['Bienvenidos', 'a', 'clase']\n",
            "Bienvenidos a clase\n"
          ]
        }
      ]
    },
    {
      "cell_type": "code",
      "source": [
        "a=\"yo tomo agua todos los dias\"\n",
        "print(a.partition(\"vitaminas\"))\n",
        "print(a)"
      ],
      "metadata": {
        "colab": {
          "base_uri": "https://localhost:8080/"
        },
        "id": "aQpecdYSbREk",
        "outputId": "c0d4c617-bcd7-44f0-dd47-be3eca9c0d2f"
      },
      "execution_count": null,
      "outputs": [
        {
          "output_type": "stream",
          "name": "stdout",
          "text": [
            "('yo tomo agua todos los dias', '', '')\n",
            "yo tomo agua todos los dias\n"
          ]
        }
      ]
    },
    {
      "cell_type": "code",
      "source": [
        "a=\"celular\"\n",
        "print(a.capitalize())"
      ],
      "metadata": {
        "colab": {
          "base_uri": "https://localhost:8080/"
        },
        "id": "iyc30TLPcQlT",
        "outputId": "be5e4bdd-cfe5-4797-8777-642c90a95fb5"
      },
      "execution_count": null,
      "outputs": [
        {
          "output_type": "stream",
          "name": "stdout",
          "text": [
            "Celular\n"
          ]
        }
      ]
    }
  ]
}